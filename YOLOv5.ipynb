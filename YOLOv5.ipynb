{
  "nbformat": 4,
  "nbformat_minor": 0,
  "metadata": {
    "colab": {
      "name": "Untitled3.ipynb",
      "provenance": []
    },
    "kernelspec": {
      "name": "python3",
      "display_name": "Python 3"
    },
    "language_info": {
      "name": "python"
    },
    "accelerator": "GPU"
  },
  "cells": [
    {
      "cell_type": "code",
      "execution_count": null,
      "metadata": {
        "id": "OpUsKApMldLZ"
      },
      "outputs": [],
      "source": [
        ""
      ]
    },
    {
      "cell_type": "code",
      "source": [
        "from google.colab import drive\n",
        "drive.mount('/content/drive')"
      ],
      "metadata": {
        "colab": {
          "base_uri": "https://localhost:8080/"
        },
        "id": "wnOrcUkslh-C",
        "outputId": "ba5a2db5-8447-4e4a-9802-c6573726e03c"
      },
      "execution_count": null,
      "outputs": [
        {
          "output_type": "stream",
          "name": "stdout",
          "text": [
            "Drive already mounted at /content/drive; to attempt to forcibly remount, call drive.mount(\"/content/drive\", force_remount=True).\n"
          ]
        }
      ]
    },
    {
      "cell_type": "code",
      "source": [
        "#!git clone https://github.com/ultralytics/yolov5  # clone repo\n",
        "#pip install -U -r yolov5/requirements.txt  # install dependencies\n",
        "%cd /content/yolov5"
      ],
      "metadata": {
        "colab": {
          "base_uri": "https://localhost:8080/"
        },
        "id": "tYvqPnv9lir9",
        "outputId": "896f93a7-e638-4c85-9ff6-7c5f0c71155b"
      },
      "execution_count": null,
      "outputs": [
        {
          "output_type": "stream",
          "name": "stdout",
          "text": [
            "/content/yolov5\n"
          ]
        }
      ]
    },
    {
      "cell_type": "code",
      "source": [
        "#!curl -L \"https://app.roboflow.com/ds/kHy8JjdPtI?key=l6ntPiZISA\" > roboflow.zip; unzip roboflow.zip; rm roboflow.zip"
      ],
      "metadata": {
        "id": "yagTxhEQfOy_"
      },
      "execution_count": null,
      "outputs": []
    },
    {
      "cell_type": "code",
      "source": [
        "!python train.py --img 416 --batch 8 --epochs 30 --data ./data/data.yaml --cfg ./models/yolov5s.yaml --weights yolov5s.pt --device 0"
      ],
      "metadata": {
        "colab": {
          "base_uri": "https://localhost:8080/"
        },
        "id": "igJfjtdBfoz0",
        "outputId": "0247b6fc-2e18-41d8-fc7c-65ce9ae436fe"
      },
      "execution_count": null,
      "outputs": [
        {
          "output_type": "stream",
          "name": "stdout",
          "text": [
            "\u001b[34m\u001b[1mtrain: \u001b[0mweights=yolov5s.pt, cfg=./models/yolov5s.yaml, data=./data/data.yaml, hyp=data/hyps/hyp.scratch.yaml, epochs=30, batch_size=8, imgsz=416, rect=False, resume=False, nosave=False, noval=False, noautoanchor=False, evolve=None, bucket=, cache=None, image_weights=False, device=0, multi_scale=False, single_cls=False, optimizer=SGD, sync_bn=False, workers=8, project=runs/train, name=exp, exist_ok=False, quad=False, linear_lr=False, label_smoothing=0.0, patience=100, freeze=[0], save_period=-1, local_rank=-1, entity=None, upload_dataset=False, bbox_interval=-1, artifact_alias=latest\n",
            "\u001b[34m\u001b[1mgithub: \u001b[0mup to date with https://github.com/ultralytics/yolov5 ✅\n",
            "YOLOv5 🚀 v6.0-166-g968e300 torch 1.10.1+cu102 CUDA:0 (Tesla K80, 11441MiB)\n",
            "\n",
            "\u001b[34m\u001b[1mhyperparameters: \u001b[0mlr0=0.01, lrf=0.1, momentum=0.937, weight_decay=0.0005, warmup_epochs=3.0, warmup_momentum=0.8, warmup_bias_lr=0.1, box=0.05, cls=0.5, cls_pw=1.0, obj=1.0, obj_pw=1.0, iou_t=0.2, anchor_t=4.0, fl_gamma=0.0, hsv_h=0.015, hsv_s=0.7, hsv_v=0.4, degrees=0.0, translate=0.1, scale=0.5, shear=0.0, perspective=0.0, flipud=0.0, fliplr=0.5, mosaic=1.0, mixup=0.0, copy_paste=0.0\n",
            "\u001b[34m\u001b[1mWeights & Biases: \u001b[0mrun 'pip install wandb' to automatically track and visualize YOLOv5 🚀 runs (RECOMMENDED)\n",
            "\u001b[34m\u001b[1mTensorBoard: \u001b[0mStart with 'tensorboard --logdir runs/train', view at http://localhost:6006/\n",
            "Overriding model.yaml nc=80 with nc=3\n",
            "\n",
            "                 from  n    params  module                                  arguments                     \n",
            "  0                -1  1      3520  models.common.Conv                      [3, 32, 6, 2, 2]              \n",
            "  1                -1  1     18560  models.common.Conv                      [32, 64, 3, 2]                \n",
            "  2                -1  1     18816  models.common.C3                        [64, 64, 1]                   \n",
            "  3                -1  1     73984  models.common.Conv                      [64, 128, 3, 2]               \n",
            "  4                -1  2    115712  models.common.C3                        [128, 128, 2]                 \n",
            "  5                -1  1    295424  models.common.Conv                      [128, 256, 3, 2]              \n",
            "  6                -1  3    625152  models.common.C3                        [256, 256, 3]                 \n",
            "  7                -1  1   1180672  models.common.Conv                      [256, 512, 3, 2]              \n",
            "  8                -1  1   1182720  models.common.C3                        [512, 512, 1]                 \n",
            "  9                -1  1    656896  models.common.SPPF                      [512, 512, 5]                 \n",
            " 10                -1  1    131584  models.common.Conv                      [512, 256, 1, 1]              \n",
            " 11                -1  1         0  torch.nn.modules.upsampling.Upsample    [None, 2, 'nearest']          \n",
            " 12           [-1, 6]  1         0  models.common.Concat                    [1]                           \n",
            " 13                -1  1    361984  models.common.C3                        [512, 256, 1, False]          \n",
            " 14                -1  1     33024  models.common.Conv                      [256, 128, 1, 1]              \n",
            " 15                -1  1         0  torch.nn.modules.upsampling.Upsample    [None, 2, 'nearest']          \n",
            " 16           [-1, 4]  1         0  models.common.Concat                    [1]                           \n",
            " 17                -1  1     90880  models.common.C3                        [256, 128, 1, False]          \n",
            " 18                -1  1    147712  models.common.Conv                      [128, 128, 3, 2]              \n",
            " 19          [-1, 14]  1         0  models.common.Concat                    [1]                           \n",
            " 20                -1  1    296448  models.common.C3                        [256, 256, 1, False]          \n",
            " 21                -1  1    590336  models.common.Conv                      [256, 256, 3, 2]              \n",
            " 22          [-1, 10]  1         0  models.common.Concat                    [1]                           \n",
            " 23                -1  1   1182720  models.common.C3                        [512, 512, 1, False]          \n",
            " 24      [17, 20, 23]  1     21576  models.yolo.Detect                      [3, [[10, 13, 16, 30, 33, 23], [30, 61, 62, 45, 59, 119], [116, 90, 156, 198, 373, 326]], [128, 256, 512]]\n",
            "Model Summary: 270 layers, 7027720 parameters, 7027720 gradients, 15.9 GFLOPs\n",
            "\n",
            "Transferred 342/349 items from yolov5s.pt\n",
            "Scaled weight_decay = 0.0005\n",
            "\u001b[34m\u001b[1moptimizer:\u001b[0m SGD with parameter groups 57 weight, 60 weight (no decay), 60 bias\n",
            "\u001b[34m\u001b[1malbumentations: \u001b[0mversion 1.0.3 required by YOLOv5, but version 0.1.12 is currently installed\n",
            "\u001b[34m\u001b[1mtrain: \u001b[0mScanning '../train/labels.cache' images and labels... 593 found, 0 missing, 0 empty, 0 corrupted: 100% 593/593 [00:00<?, ?it/s]\n",
            "\u001b[34m\u001b[1mval: \u001b[0mScanning '../valid/labels.cache' images and labels... 170 found, 0 missing, 0 empty, 0 corrupted: 100% 170/170 [00:00<?, ?it/s]\n",
            "Plotting labels to runs/train/exp2/labels.jpg... \n",
            "\n",
            "\u001b[34m\u001b[1mAutoAnchor: \u001b[0m5.14 anchors/target, 0.998 Best Possible Recall (BPR). Current anchors are a good fit to dataset ✅\n",
            "Image sizes 416 train, 416 val\n",
            "Using 2 dataloader workers\n",
            "Logging results to \u001b[1mruns/train/exp2\u001b[0m\n",
            "Starting training for 30 epochs...\n",
            "\n",
            "     Epoch   gpu_mem       box       obj       cls    labels  img_size\n",
            "      0/29    0.744G    0.1147   0.03266   0.03768         2       416: 100% 75/75 [00:27<00:00,  2.73it/s]\n",
            "               Class     Images     Labels          P          R     mAP@.5 mAP@.5:.95: 100% 11/11 [00:03<00:00,  3.65it/s]\n",
            "                 all        170        744     0.0116      0.037    0.00361   0.000681\n",
            "\n",
            "     Epoch   gpu_mem       box       obj       cls    labels  img_size\n",
            "      1/29    0.849G   0.09565   0.04386   0.02707         2       416: 100% 75/75 [00:22<00:00,  3.26it/s]\n",
            "               Class     Images     Labels          P          R     mAP@.5 mAP@.5:.95: 100% 11/11 [00:03<00:00,  3.34it/s]\n",
            "                 all        170        744     0.0728     0.0897     0.0439    0.00924\n",
            "\n",
            "     Epoch   gpu_mem       box       obj       cls    labels  img_size\n",
            "      2/29    0.849G   0.07762   0.03933   0.02173         1       416: 100% 75/75 [00:22<00:00,  3.30it/s]\n",
            "               Class     Images     Labels          P          R     mAP@.5 mAP@.5:.95: 100% 11/11 [00:02<00:00,  3.99it/s]\n",
            "                 all        170        744      0.802      0.142      0.119     0.0299\n",
            "\n",
            "     Epoch   gpu_mem       box       obj       cls    labels  img_size\n",
            "      3/29    0.912G   0.06832   0.03577   0.02002         3       416: 100% 75/75 [00:22<00:00,  3.35it/s]\n",
            "               Class     Images     Labels          P          R     mAP@.5 mAP@.5:.95: 100% 11/11 [00:02<00:00,  4.47it/s]\n",
            "                 all        170        744      0.858       0.22      0.217     0.0685\n",
            "\n",
            "     Epoch   gpu_mem       box       obj       cls    labels  img_size\n",
            "      4/29    0.912G   0.06557   0.03209    0.0195         7       416: 100% 75/75 [00:22<00:00,  3.34it/s]\n",
            "               Class     Images     Labels          P          R     mAP@.5 mAP@.5:.95: 100% 11/11 [00:02<00:00,  4.67it/s]\n",
            "                 all        170        744      0.826      0.191      0.173     0.0617\n",
            "\n",
            "     Epoch   gpu_mem       box       obj       cls    labels  img_size\n",
            "      5/29    0.912G   0.06336     0.032   0.01752        45       416: 100% 75/75 [00:22<00:00,  3.36it/s]\n",
            "               Class     Images     Labels          P          R     mAP@.5 mAP@.5:.95: 100% 11/11 [00:02<00:00,  4.90it/s]\n",
            "                 all        170        744        0.9      0.234      0.287      0.123\n",
            "\n",
            "     Epoch   gpu_mem       box       obj       cls    labels  img_size\n",
            "      6/29    0.912G   0.06058   0.02913   0.01651         1       416: 100% 75/75 [00:22<00:00,  3.37it/s]\n",
            "               Class     Images     Labels          P          R     mAP@.5 mAP@.5:.95: 100% 11/11 [00:02<00:00,  4.91it/s]\n",
            "                 all        170        744      0.607      0.382      0.281        0.1\n",
            "\n",
            "     Epoch   gpu_mem       box       obj       cls    labels  img_size\n",
            "      7/29    0.912G   0.06026   0.02805   0.01629         3       416: 100% 75/75 [00:22<00:00,  3.37it/s]\n",
            "               Class     Images     Labels          P          R     mAP@.5 mAP@.5:.95: 100% 11/11 [00:02<00:00,  4.86it/s]\n",
            "                 all        170        744      0.627       0.44      0.337      0.123\n",
            "\n",
            "     Epoch   gpu_mem       box       obj       cls    labels  img_size\n",
            "      8/29    0.912G   0.05859     0.028   0.01401         2       416: 100% 75/75 [00:22<00:00,  3.37it/s]\n",
            "               Class     Images     Labels          P          R     mAP@.5 mAP@.5:.95: 100% 11/11 [00:02<00:00,  4.94it/s]\n",
            "                 all        170        744      0.666      0.397      0.389      0.154\n",
            "\n",
            "     Epoch   gpu_mem       box       obj       cls    labels  img_size\n",
            "      9/29    0.912G   0.05569   0.02609   0.01221        21       416: 100% 75/75 [00:22<00:00,  3.40it/s]\n",
            "               Class     Images     Labels          P          R     mAP@.5 mAP@.5:.95: 100% 11/11 [00:02<00:00,  5.01it/s]\n",
            "                 all        170        744       0.68      0.415      0.394      0.121\n",
            "\n",
            "     Epoch   gpu_mem       box       obj       cls    labels  img_size\n",
            "     10/29    0.912G   0.05571   0.02721   0.01132         2       416: 100% 75/75 [00:22<00:00,  3.41it/s]\n",
            "               Class     Images     Labels          P          R     mAP@.5 mAP@.5:.95: 100% 11/11 [00:02<00:00,  4.93it/s]\n",
            "                 all        170        744      0.636      0.417      0.369      0.142\n",
            "\n",
            "     Epoch   gpu_mem       box       obj       cls    labels  img_size\n",
            "     11/29    0.912G   0.05497   0.02618   0.01067         3       416: 100% 75/75 [00:22<00:00,  3.38it/s]\n",
            "               Class     Images     Labels          P          R     mAP@.5 mAP@.5:.95: 100% 11/11 [00:02<00:00,  5.09it/s]\n",
            "                 all        170        744      0.728      0.445      0.424      0.176\n",
            "\n",
            "     Epoch   gpu_mem       box       obj       cls    labels  img_size\n",
            "     12/29    0.912G   0.05214   0.02607   0.01029         6       416: 100% 75/75 [00:22<00:00,  3.41it/s]\n",
            "               Class     Images     Labels          P          R     mAP@.5 mAP@.5:.95: 100% 11/11 [00:02<00:00,  5.10it/s]\n",
            "                 all        170        744      0.679      0.453      0.387      0.152\n",
            "\n",
            "     Epoch   gpu_mem       box       obj       cls    labels  img_size\n",
            "     13/29    0.912G   0.04879   0.02562   0.01007         6       416: 100% 75/75 [00:21<00:00,  3.41it/s]\n",
            "               Class     Images     Labels          P          R     mAP@.5 mAP@.5:.95: 100% 11/11 [00:02<00:00,  5.11it/s]\n",
            "                 all        170        744      0.694      0.437      0.391      0.177\n",
            "\n",
            "     Epoch   gpu_mem       box       obj       cls    labels  img_size\n",
            "     14/29    0.912G   0.04735   0.02419  0.008871         1       416: 100% 75/75 [00:22<00:00,  3.41it/s]\n",
            "               Class     Images     Labels          P          R     mAP@.5 mAP@.5:.95: 100% 11/11 [00:02<00:00,  5.21it/s]\n",
            "                 all        170        744      0.883      0.518       0.56      0.283\n",
            "\n",
            "     Epoch   gpu_mem       box       obj       cls    labels  img_size\n",
            "     15/29    0.912G   0.04612   0.02692  0.009249         8       416: 100% 75/75 [00:22<00:00,  3.40it/s]\n",
            "               Class     Images     Labels          P          R     mAP@.5 mAP@.5:.95: 100% 11/11 [00:02<00:00,  5.33it/s]\n",
            "                 all        170        744      0.934        0.5      0.571      0.273\n",
            "\n",
            "     Epoch   gpu_mem       box       obj       cls    labels  img_size\n",
            "     16/29    0.912G   0.04228   0.02442  0.008986         1       416: 100% 75/75 [00:22<00:00,  3.40it/s]\n",
            "               Class     Images     Labels          P          R     mAP@.5 mAP@.5:.95: 100% 11/11 [00:02<00:00,  5.25it/s]\n",
            "                 all        170        744      0.881      0.529      0.561      0.275\n",
            "\n",
            "     Epoch   gpu_mem       box       obj       cls    labels  img_size\n",
            "     17/29    0.912G   0.03918   0.02426  0.008136        10       416: 100% 75/75 [00:22<00:00,  3.40it/s]\n",
            "               Class     Images     Labels          P          R     mAP@.5 mAP@.5:.95: 100% 11/11 [00:02<00:00,  5.25it/s]\n",
            "                 all        170        744      0.917      0.517       0.58      0.289\n",
            "\n",
            "     Epoch   gpu_mem       box       obj       cls    labels  img_size\n",
            "     18/29    0.912G   0.03839   0.02501  0.008681         2       416: 100% 75/75 [00:21<00:00,  3.43it/s]\n",
            "               Class     Images     Labels          P          R     mAP@.5 mAP@.5:.95: 100% 11/11 [00:02<00:00,  5.26it/s]\n",
            "                 all        170        744      0.923      0.526      0.591      0.323\n",
            "\n",
            "     Epoch   gpu_mem       box       obj       cls    labels  img_size\n",
            "     19/29    0.912G   0.03507   0.02187  0.007097         1       416: 100% 75/75 [00:22<00:00,  3.40it/s]\n",
            "               Class     Images     Labels          P          R     mAP@.5 mAP@.5:.95: 100% 11/11 [00:02<00:00,  5.26it/s]\n",
            "                 all        170        744      0.935      0.526      0.599      0.331\n",
            "\n",
            "     Epoch   gpu_mem       box       obj       cls    labels  img_size\n",
            "     20/29    0.912G   0.03379   0.02361  0.007557        18       416: 100% 75/75 [00:21<00:00,  3.43it/s]\n",
            "               Class     Images     Labels          P          R     mAP@.5 mAP@.5:.95: 100% 11/11 [00:02<00:00,  5.31it/s]\n",
            "                 all        170        744      0.952      0.528      0.611      0.346\n",
            "\n",
            "     Epoch   gpu_mem       box       obj       cls    labels  img_size\n",
            "     21/29    0.912G   0.03377    0.0229  0.006683         4       416: 100% 75/75 [00:21<00:00,  3.41it/s]\n",
            "               Class     Images     Labels          P          R     mAP@.5 mAP@.5:.95: 100% 11/11 [00:02<00:00,  5.18it/s]\n",
            "                 all        170        744       0.92      0.558      0.612      0.361\n",
            "\n",
            "     Epoch   gpu_mem       box       obj       cls    labels  img_size\n",
            "     22/29    0.912G   0.03181   0.02342  0.007262         3       416: 100% 75/75 [00:22<00:00,  3.41it/s]\n",
            "               Class     Images     Labels          P          R     mAP@.5 mAP@.5:.95: 100% 11/11 [00:02<00:00,  5.23it/s]\n",
            "                 all        170        744      0.904      0.567      0.614      0.358\n",
            "\n",
            "     Epoch   gpu_mem       box       obj       cls    labels  img_size\n",
            "     23/29    0.912G   0.03114   0.02136  0.007442         5       416: 100% 75/75 [00:22<00:00,  3.40it/s]\n",
            "               Class     Images     Labels          P          R     mAP@.5 mAP@.5:.95: 100% 11/11 [00:02<00:00,  5.31it/s]\n",
            "                 all        170        744      0.924      0.552       0.61      0.362\n",
            "\n",
            "     Epoch   gpu_mem       box       obj       cls    labels  img_size\n",
            "     24/29    0.912G   0.02898   0.02109  0.006506         1       416: 100% 75/75 [00:22<00:00,  3.40it/s]\n",
            "               Class     Images     Labels          P          R     mAP@.5 mAP@.5:.95: 100% 11/11 [00:02<00:00,  5.27it/s]\n",
            "                 all        170        744      0.928      0.548      0.613      0.377\n",
            "\n",
            "     Epoch   gpu_mem       box       obj       cls    labels  img_size\n",
            "     25/29    0.912G   0.02995    0.0224  0.006773         6       416: 100% 75/75 [00:22<00:00,  3.40it/s]\n",
            "               Class     Images     Labels          P          R     mAP@.5 mAP@.5:.95: 100% 11/11 [00:02<00:00,  5.24it/s]\n",
            "                 all        170        744      0.922      0.548      0.613      0.378\n",
            "\n",
            "     Epoch   gpu_mem       box       obj       cls    labels  img_size\n",
            "     26/29    0.912G    0.0293   0.02167  0.006046         3       416: 100% 75/75 [00:22<00:00,  3.41it/s]\n",
            "               Class     Images     Labels          P          R     mAP@.5 mAP@.5:.95: 100% 11/11 [00:02<00:00,  5.25it/s]\n",
            "                 all        170        744      0.916      0.552       0.63      0.389\n",
            "\n",
            "     Epoch   gpu_mem       box       obj       cls    labels  img_size\n",
            "     27/29    0.912G   0.02834    0.0227  0.006452        15       416: 100% 75/75 [00:22<00:00,  3.40it/s]\n",
            "               Class     Images     Labels          P          R     mAP@.5 mAP@.5:.95: 100% 11/11 [00:02<00:00,  5.30it/s]\n",
            "                 all        170        744      0.925      0.553      0.634      0.391\n",
            "\n",
            "     Epoch   gpu_mem       box       obj       cls    labels  img_size\n",
            "     28/29    0.912G   0.02851   0.02031  0.006066         7       416: 100% 75/75 [00:22<00:00,  3.40it/s]\n",
            "               Class     Images     Labels          P          R     mAP@.5 mAP@.5:.95: 100% 11/11 [00:02<00:00,  5.28it/s]\n",
            "                 all        170        744      0.918      0.561      0.633      0.389\n",
            "\n",
            "     Epoch   gpu_mem       box       obj       cls    labels  img_size\n",
            "     29/29    0.912G   0.02847   0.02072    0.0066         1       416: 100% 75/75 [00:22<00:00,  3.40it/s]\n",
            "               Class     Images     Labels          P          R     mAP@.5 mAP@.5:.95: 100% 11/11 [00:02<00:00,  5.25it/s]\n",
            "                 all        170        744       0.91      0.568      0.639      0.392\n",
            "\n",
            "30 epochs completed in 0.210 hours.\n",
            "Optimizer stripped from runs/train/exp2/weights/last.pt, 14.3MB\n",
            "Optimizer stripped from runs/train/exp2/weights/best.pt, 14.3MB\n",
            "\n",
            "Validating runs/train/exp2/weights/best.pt...\n",
            "Fusing layers... \n",
            "Model Summary: 213 layers, 7018216 parameters, 0 gradients, 15.8 GFLOPs\n",
            "               Class     Images     Labels          P          R     mAP@.5 mAP@.5:.95: 100% 11/11 [00:08<00:00,  1.36it/s]\n",
            "                 all        170        744      0.928      0.552      0.639      0.393\n",
            "mask_weared_incorrect        170         18          1          0       0.15     0.0989\n",
            "           with_mask        170        598      0.936      0.913      0.957      0.624\n",
            "        without_mask        170        128      0.848      0.742       0.81      0.455\n",
            "Results saved to \u001b[1mruns/train/exp2\u001b[0m\n"
          ]
        }
      ]
    },
    {
      "cell_type": "code",
      "source": [
        "!python export.py --weights yolov5s.pt "
      ],
      "metadata": {
        "colab": {
          "base_uri": "https://localhost:8080/"
        },
        "id": "soS8y8Uri4hR",
        "outputId": "062d1090-01bc-496f-b21d-1cd652894dcf"
      },
      "execution_count": null,
      "outputs": [
        {
          "output_type": "stream",
          "name": "stdout",
          "text": [
            "\u001b[34m\u001b[1mexport: \u001b[0mdata=data/coco128.yaml, weights=['yolov5s.pt'], imgsz=[640, 640], batch_size=1, device=cpu, half=False, inplace=False, train=False, optimize=False, int8=False, dynamic=False, simplify=False, opset=12, verbose=False, workspace=4, nms=False, agnostic_nms=False, topk_per_class=100, topk_all=100, iou_thres=0.45, conf_thres=0.25, include=['torchscript', 'onnx']\n",
            "YOLOv5 🚀 v6.0-166-g968e300 torch 1.10.1+cu102 CPU\n",
            "\n",
            "Fusing layers... \n",
            "Model Summary: 213 layers, 7225885 parameters, 0 gradients\n",
            "\n",
            "\u001b[34m\u001b[1mPyTorch:\u001b[0m starting from yolov5s.pt (14.7 MB)\n",
            "\n",
            "\u001b[34m\u001b[1mTorchScript:\u001b[0m starting export with torch 1.10.1+cu102...\n",
            "/content/yolov5/models/yolo.py:57: TracerWarning: Converting a tensor to a Python boolean might cause the trace to be incorrect. We can't record the data flow of Python values, so this value will be treated as a constant in the future. This means that the trace might not generalize to other inputs!\n",
            "  if self.onnx_dynamic or self.grid[i].shape[2:4] != x[i].shape[2:4]:\n",
            "/content/yolov5/models/yolo.py:57: TracerWarning: Converting a tensor to a Python boolean might cause the trace to be incorrect. We can't record the data flow of Python values, so this value will be treated as a constant in the future. This means that the trace might not generalize to other inputs!\n",
            "  if self.onnx_dynamic or self.grid[i].shape[2:4] != x[i].shape[2:4]:\n",
            "\u001b[34m\u001b[1mTorchScript:\u001b[0m export success, saved as yolov5s.torchscript (29.4 MB)\n",
            "\n",
            "\u001b[34m\u001b[1mONNX:\u001b[0m starting export with onnx 1.10.2...\n",
            "/content/yolov5/models/yolo.py:57: TracerWarning: Converting a tensor to a Python boolean might cause the trace to be incorrect. We can't record the data flow of Python values, so this value will be treated as a constant in the future. This means that the trace might not generalize to other inputs!\n",
            "  if self.onnx_dynamic or self.grid[i].shape[2:4] != x[i].shape[2:4]:\n",
            "\u001b[34m\u001b[1mONNX:\u001b[0m export success, saved as yolov5s.onnx (29.3 MB)\n",
            "\u001b[34m\u001b[1mONNX:\u001b[0m run --dynamic ONNX model inference with: 'python detect.py --weights yolov5s.onnx'\n",
            "\n",
            "Export complete (7.72s)\n",
            "Results saved to \u001b[1m/content/yolov5\u001b[0m\n",
            "Visualize with https://netron.app\n"
          ]
        }
      ]
    },
    {
      "cell_type": "code",
      "source": [
        "!ls"
      ],
      "metadata": {
        "colab": {
          "base_uri": "https://localhost:8080/"
        },
        "id": "_0zwHhdqmL9Z",
        "outputId": "a93dbd42-e929-4e1c-9a16-4fbc4c164c7e"
      },
      "execution_count": null,
      "outputs": [
        {
          "output_type": "stream",
          "name": "stdout",
          "text": [
            "CONTRIBUTING.md  LICENSE\t   setup.cfg\t   yolov5s.mlmodel\n",
            "data\t\t models\t\t   train.py\t   yolov5s.onnx\n",
            "detect.py\t __pycache__\t   tutorial.ipynb  yolov5s_openvino_model\n",
            "Dockerfile\t README.md\t   utils\t   yolov5s.pt\n",
            "export.py\t requirements.txt  val.py\t   yolov5s.torchscript\n",
            "hubconf.py\t runs\t\t   yolov5\n"
          ]
        }
      ]
    },
    {
      "cell_type": "code",
      "source": [
        "files.download('yolov5s.pt')"
      ],
      "metadata": {
        "colab": {
          "base_uri": "https://localhost:8080/",
          "height": 34
        },
        "id": "QTG26xqAmo_J",
        "outputId": "07d1e84a-ba29-480a-e728-3102ae05ecfb"
      },
      "execution_count": null,
      "outputs": [
        {
          "output_type": "display_data",
          "data": {
            "application/javascript": [
              "\n",
              "    async function download(id, filename, size) {\n",
              "      if (!google.colab.kernel.accessAllowed) {\n",
              "        return;\n",
              "      }\n",
              "      const div = document.createElement('div');\n",
              "      const label = document.createElement('label');\n",
              "      label.textContent = `Downloading \"${filename}\": `;\n",
              "      div.appendChild(label);\n",
              "      const progress = document.createElement('progress');\n",
              "      progress.max = size;\n",
              "      div.appendChild(progress);\n",
              "      document.body.appendChild(div);\n",
              "\n",
              "      const buffers = [];\n",
              "      let downloaded = 0;\n",
              "\n",
              "      const channel = await google.colab.kernel.comms.open(id);\n",
              "      // Send a message to notify the kernel that we're ready.\n",
              "      channel.send({})\n",
              "\n",
              "      for await (const message of channel.messages) {\n",
              "        // Send a message to notify the kernel that we're ready.\n",
              "        channel.send({})\n",
              "        if (message.buffers) {\n",
              "          for (const buffer of message.buffers) {\n",
              "            buffers.push(buffer);\n",
              "            downloaded += buffer.byteLength;\n",
              "            progress.value = downloaded;\n",
              "          }\n",
              "        }\n",
              "      }\n",
              "      const blob = new Blob(buffers, {type: 'application/binary'});\n",
              "      const a = document.createElement('a');\n",
              "      a.href = window.URL.createObjectURL(blob);\n",
              "      a.download = filename;\n",
              "      div.appendChild(a);\n",
              "      a.click();\n",
              "      div.remove();\n",
              "    }\n",
              "  "
            ],
            "text/plain": [
              "<IPython.core.display.Javascript object>"
            ]
          },
          "metadata": {}
        },
        {
          "output_type": "display_data",
          "data": {
            "application/javascript": [
              "download(\"download_398d514f-3399-4eb5-a841-4a24fac010bc\", \"yolov5s.pt\", 14698491)"
            ],
            "text/plain": [
              "<IPython.core.display.Javascript object>"
            ]
          },
          "metadata": {}
        }
      ]
    },
    {
      "cell_type": "code",
      "source": [
        "!python detect.py --weights yolov5s.pt --source 0\n"
      ],
      "metadata": {
        "colab": {
          "base_uri": "https://localhost:8080/"
        },
        "id": "lJjdZN6Om1A4",
        "outputId": "09ba2f2d-b790-4365-e6ca-709dce0d04c8"
      },
      "execution_count": null,
      "outputs": [
        {
          "output_type": "stream",
          "name": "stdout",
          "text": [
            "\u001b[34m\u001b[1mdetect: \u001b[0mweights=['yolov5s.pt'], source=0, data=data/coco128.yaml, imgsz=[640, 640], conf_thres=0.25, iou_thres=0.45, max_det=1000, device=, view_img=False, save_txt=False, save_conf=False, save_crop=False, nosave=False, classes=None, agnostic_nms=False, augment=False, visualize=False, update=False, project=runs/detect, name=exp, exist_ok=False, line_thickness=3, hide_labels=False, hide_conf=False, half=False, dnn=False\n",
            "YOLOv5 🚀 v6.0-166-g968e300 torch 1.10.1+cu102 CUDA:0 (Tesla K80, 11441MiB)\n",
            "\n",
            "Fusing layers... \n",
            "Model Summary: 213 layers, 7225885 parameters, 0 gradients\n",
            "WARNING: Environment does not support cv2.imshow() or PIL Image.show() image displays\n",
            "cv2.imshow() is disabled in Google Colab environments\n",
            "[ WARN:0@5.409] global /io/opencv/modules/videoio/src/cap_v4l.cpp (889) open VIDEOIO(V4L2:/dev/video0): can't open camera by index\n",
            "Traceback (most recent call last):\n",
            "  File \"detect.py\", line 257, in <module>\n",
            "    main(opt)\n",
            "  File \"detect.py\", line 252, in main\n",
            "    run(**vars(opt))\n",
            "  File \"/usr/local/lib/python3.7/dist-packages/torch/autograd/grad_mode.py\", line 28, in decorate_context\n",
            "    return func(*args, **kwargs)\n",
            "  File \"detect.py\", line 105, in run\n",
            "    dataset = LoadStreams(source, img_size=imgsz, stride=stride, auto=pt)\n",
            "  File \"/content/yolov5/utils/datasets.py\", line 308, in __init__\n",
            "    assert cap.isOpened(), f'{st}Failed to open {s}'\n",
            "AssertionError: 1/1: 0... Failed to open 0\n"
          ]
        }
      ]
    },
    {
      "cell_type": "code",
      "source": [
        ""
      ],
      "metadata": {
        "id": "kVrcYirqrxZR"
      },
      "execution_count": null,
      "outputs": []
    }
  ]
}